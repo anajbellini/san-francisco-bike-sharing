{
 "cells": [
  {
   "cell_type": "markdown",
   "metadata": {},
   "source": [
    "# Ford's GoBike: Data Exploration\n",
    "\n",
    "TODO Introduction"
   ]
  },
  {
   "cell_type": "markdown",
   "metadata": {},
   "source": [
    "## Table of Contents\n",
    "\n",
    "TODO Table of Contents"
   ]
  },
  {
   "cell_type": "markdown",
   "metadata": {},
   "source": [
    "## Environment"
   ]
  },
  {
   "cell_type": "code",
   "execution_count": null,
   "metadata": {},
   "outputs": [],
   "source": [
    "from datetime import date\n",
    "import folium\n",
    "from folium import Marker\n",
    "from folium.plugins import MarkerCluster\n",
    "import matplotlib.pyplot as plt\n",
    "import numpy as np\n",
    "import os\n",
    "import pandas as pd\n",
    "import requests\n",
    "import seaborn as sns"
   ]
  },
  {
   "cell_type": "code",
   "execution_count": null,
   "metadata": {},
   "outputs": [],
   "source": [
    "default_viz_palette = 'YlOrBr'\n",
    "default_viz_colour = sns.color_palette(default_viz_palette)[-3]\n",
    "sns.set_context('notebook', font_scale=1.25)\n",
    "sns.despine()\n",
    "%matplotlib inline"
   ]
  },
  {
   "cell_type": "markdown",
   "metadata": {},
   "source": [
    "## Preliminary Wrangling"
   ]
  },
  {
   "cell_type": "markdown",
   "metadata": {},
   "source": [
    "### Gathering"
   ]
  },
  {
   "cell_type": "code",
   "execution_count": null,
   "metadata": {},
   "outputs": [],
   "source": [
    "data_url = \"https://video.udacity-data.com/topher/2020/October/5f91cf38_201902-fordgobike-tripdata/201902-fordgobike-tripdata.csv\"\n",
    "data_http_response = requests.get(data_url)\n",
    "data_http_response"
   ]
  },
  {
   "cell_type": "code",
   "execution_count": null,
   "metadata": {},
   "outputs": [],
   "source": [
    "data_path = \"..//data//\""
   ]
  },
  {
   "cell_type": "code",
   "execution_count": null,
   "metadata": {},
   "outputs": [],
   "source": [
    "with open(os.path.join(data_path, \"201902-fordgobike-tripdata.csv\"), \"w\") as data_file:\n",
    "    data_file.write(data_http_response.text)"
   ]
  },
  {
   "cell_type": "code",
   "execution_count": null,
   "metadata": {},
   "outputs": [],
   "source": [
    "df = pd.read_csv(os.path.join(data_path, \"201902-fordgobike-tripdata.csv\"))"
   ]
  },
  {
   "cell_type": "markdown",
   "metadata": {},
   "source": [
    "### Assessing"
   ]
  },
  {
   "cell_type": "markdown",
   "metadata": {},
   "source": [
    "<div class=\"alert alert-info\">\n",
    "    <ul>\n",
    "        <li><code>member_birth_year</code> should be <b>integer</b>.</li>\n",
    "        <li><code>member_birth_year</code> also has some \"extreme\" values (e.g. 1878).</li>\n",
    "        <li><code>user_type</code> and <code>member_gender</code> should be <b>categorical</b>.</li>\n",
    "        <li><code>bike_share_for_all_trip</code> could be <b>boolean</b>.</li>\n",
    "        <li><b>Missing values</b> in <code>member_birth_year</code>, <code>member_gender</code>, <code>start_station_name</code>, and <code>end_station_name</code>.</li>\n",
    "        <li><code>start_station_id</code>, <code>end_station_id</code>, and <code>bike_id</code> will not be used.</li>\n",
    "    </ul>\n",
    "</div>"
   ]
  },
  {
   "cell_type": "markdown",
   "metadata": {},
   "source": [
    "#### General"
   ]
  },
  {
   "cell_type": "code",
   "execution_count": null,
   "metadata": {},
   "outputs": [],
   "source": [
    "df.head()"
   ]
  },
  {
   "cell_type": "code",
   "execution_count": null,
   "metadata": {},
   "outputs": [],
   "source": [
    "df.info()"
   ]
  },
  {
   "cell_type": "code",
   "execution_count": null,
   "metadata": {},
   "outputs": [],
   "source": [
    "df.describe()"
   ]
  },
  {
   "cell_type": "code",
   "execution_count": null,
   "metadata": {},
   "outputs": [],
   "source": [
    "sum(df.duplicated())"
   ]
  },
  {
   "cell_type": "markdown",
   "metadata": {},
   "source": [
    "#### Specific Columns"
   ]
  },
  {
   "cell_type": "markdown",
   "metadata": {},
   "source": [
    "##### Start and End Times"
   ]
  },
  {
   "cell_type": "code",
   "execution_count": null,
   "metadata": {},
   "outputs": [],
   "source": [
    "df.start_time.min(), df.start_time.max()"
   ]
  },
  {
   "cell_type": "code",
   "execution_count": null,
   "metadata": {},
   "outputs": [],
   "source": [
    "df.end_time.min(), df.end_time.max()"
   ]
  },
  {
   "cell_type": "markdown",
   "metadata": {},
   "source": [
    "##### Station Names"
   ]
  },
  {
   "cell_type": "code",
   "execution_count": null,
   "metadata": {},
   "outputs": [],
   "source": [
    "df.start_station_name.isnull().sum()"
   ]
  },
  {
   "cell_type": "code",
   "execution_count": null,
   "metadata": {},
   "outputs": [],
   "source": [
    "df.end_station_name.isnull().sum()"
   ]
  },
  {
   "cell_type": "markdown",
   "metadata": {},
   "source": [
    "##### User Type"
   ]
  },
  {
   "cell_type": "code",
   "execution_count": null,
   "metadata": {},
   "outputs": [],
   "source": [
    "df.user_type.value_counts()"
   ]
  },
  {
   "cell_type": "code",
   "execution_count": null,
   "metadata": {},
   "outputs": [],
   "source": [
    "df.user_type.isnull().sum()"
   ]
  },
  {
   "cell_type": "markdown",
   "metadata": {},
   "source": [
    "##### Birth Years"
   ]
  },
  {
   "cell_type": "code",
   "execution_count": null,
   "metadata": {},
   "outputs": [],
   "source": [
    "df.member_birth_year.sort_values().unique()"
   ]
  },
  {
   "cell_type": "code",
   "execution_count": null,
   "metadata": {},
   "outputs": [],
   "source": [
    "df.member_birth_year.isnull().sum()"
   ]
  },
  {
   "cell_type": "markdown",
   "metadata": {},
   "source": [
    "##### Genders"
   ]
  },
  {
   "cell_type": "code",
   "execution_count": null,
   "metadata": {},
   "outputs": [],
   "source": [
    "df.member_gender.value_counts()"
   ]
  },
  {
   "cell_type": "code",
   "execution_count": null,
   "metadata": {},
   "outputs": [],
   "source": [
    "df.member_gender.isnull().sum()"
   ]
  },
  {
   "cell_type": "markdown",
   "metadata": {},
   "source": [
    "##### Bike for entire trip"
   ]
  },
  {
   "cell_type": "code",
   "execution_count": null,
   "metadata": {},
   "outputs": [],
   "source": [
    "df.bike_share_for_all_trip.value_counts()"
   ]
  },
  {
   "cell_type": "markdown",
   "metadata": {},
   "source": [
    "### Cleaning"
   ]
  },
  {
   "cell_type": "code",
   "execution_count": null,
   "metadata": {},
   "outputs": [],
   "source": [
    "df_clean = df.copy()"
   ]
  },
  {
   "cell_type": "markdown",
   "metadata": {},
   "source": [
    "#### Missing data"
   ]
  },
  {
   "cell_type": "markdown",
   "metadata": {},
   "source": [
    "##### Define\n",
    "Since our analysis will focus on understanding GoBike members' profiles and behaviour, we'll drop the rows without information on their birth year and gender.\n",
    "\n",
    "As per station names, given the fact we've already got the starting and ending coordinates in the dataset, the absence of names doesn't have a significant impact on our work. Therefore, we're not treating these cases here."
   ]
  },
  {
   "cell_type": "markdown",
   "metadata": {},
   "source": [
    "##### Code"
   ]
  },
  {
   "cell_type": "code",
   "execution_count": null,
   "metadata": {},
   "outputs": [],
   "source": [
    "df_clean = df_clean.dropna(subset=['member_birth_year', 'member_gender']).reset_index(drop=True)"
   ]
  },
  {
   "cell_type": "markdown",
   "metadata": {},
   "source": [
    "##### Test"
   ]
  },
  {
   "cell_type": "code",
   "execution_count": null,
   "metadata": {},
   "outputs": [],
   "source": [
    "df_clean.info()"
   ]
  },
  {
   "cell_type": "markdown",
   "metadata": {},
   "source": [
    "#### Dropping unused columns"
   ]
  },
  {
   "cell_type": "markdown",
   "metadata": {},
   "source": [
    "##### Define\n",
    "\n",
    "As mentioned in the assessing step, ID columns won't be used. We'll just drop them from the DataFrame."
   ]
  },
  {
   "cell_type": "markdown",
   "metadata": {},
   "source": [
    "##### Code"
   ]
  },
  {
   "cell_type": "code",
   "execution_count": null,
   "metadata": {},
   "outputs": [],
   "source": [
    "df_clean.drop(columns=['start_station_id', 'end_station_id', 'bike_id'], inplace=True)"
   ]
  },
  {
   "cell_type": "markdown",
   "metadata": {},
   "source": [
    "##### Test"
   ]
  },
  {
   "cell_type": "code",
   "execution_count": null,
   "metadata": {},
   "outputs": [],
   "source": [
    "df_clean.info()"
   ]
  },
  {
   "cell_type": "markdown",
   "metadata": {},
   "source": [
    "#### Wrong data types"
   ]
  },
  {
   "cell_type": "markdown",
   "metadata": {},
   "source": [
    "##### Define\n",
    "\n",
    "- Start and end dates are to be converted into `datetime`;\n",
    "- Birth years will become `int`;\n",
    "- User type and gender will be converted into unordered `CategoricalDtype`;\n",
    "- Bike used for entire trip must be `bool`."
   ]
  },
  {
   "cell_type": "markdown",
   "metadata": {},
   "source": [
    "##### Code"
   ]
  },
  {
   "cell_type": "markdown",
   "metadata": {},
   "source": [
    "###### `datetime` "
   ]
  },
  {
   "cell_type": "code",
   "execution_count": null,
   "metadata": {},
   "outputs": [],
   "source": [
    "# start and end times must be datetime\n",
    "datetime_vars = ['start_time', 'end_time']"
   ]
  },
  {
   "cell_type": "code",
   "execution_count": null,
   "metadata": {},
   "outputs": [],
   "source": [
    "for var in datetime_vars:\n",
    "    df_clean[var] = pd.to_datetime(df_clean[var])"
   ]
  },
  {
   "cell_type": "markdown",
   "metadata": {},
   "source": [
    "###### `int` "
   ]
  },
  {
   "cell_type": "code",
   "execution_count": null,
   "metadata": {},
   "outputs": [],
   "source": [
    "# member's birth years should be integer, instead of float\n",
    "df_clean['member_birth_year'] = df_clean['member_birth_year'].astype(int)"
   ]
  },
  {
   "cell_type": "markdown",
   "metadata": {},
   "source": [
    "###### `CategoricalDtype`"
   ]
  },
  {
   "cell_type": "code",
   "execution_count": null,
   "metadata": {},
   "outputs": [],
   "source": [
    "# user type, member gender and bike shared for all trip should be unordered categorical variables\n",
    "unordered_cat_vars = {\n",
    "    'user_type': list(df_clean.user_type.unique()),\n",
    "    'member_gender': list(df_clean.member_gender.unique())\n",
    "}"
   ]
  },
  {
   "cell_type": "code",
   "execution_count": null,
   "metadata": {},
   "outputs": [],
   "source": [
    "for var in unordered_cat_vars:\n",
    "    unordered_var = pd.api.types.CategoricalDtype(ordered = False, categories = unordered_cat_vars[var])\n",
    "    df_clean[var] = df_clean[var].astype(unordered_var)"
   ]
  },
  {
   "cell_type": "markdown",
   "metadata": {},
   "source": [
    "###### `bool`"
   ]
  },
  {
   "cell_type": "code",
   "execution_count": null,
   "metadata": {},
   "outputs": [],
   "source": [
    "df_clean['bike_share_for_all_trip'] = df_clean['bike_share_for_all_trip'].apply(lambda x: True if x == \"Yes\" else False)"
   ]
  },
  {
   "cell_type": "markdown",
   "metadata": {},
   "source": [
    "##### Test"
   ]
  },
  {
   "cell_type": "code",
   "execution_count": null,
   "metadata": {},
   "outputs": [],
   "source": [
    "df_clean.info()"
   ]
  },
  {
   "cell_type": "markdown",
   "metadata": {},
   "source": [
    "#### Filtering birth years"
   ]
  },
  {
   "cell_type": "markdown",
   "metadata": {},
   "source": [
    "##### Define\n",
    "We're defining members' generations according to [these criterium](https://www.beresfordresearch.com/age-range-by-generation/), so only members born in 1922 and forward will remain."
   ]
  },
  {
   "cell_type": "markdown",
   "metadata": {},
   "source": [
    "##### Code"
   ]
  },
  {
   "cell_type": "code",
   "execution_count": null,
   "metadata": {},
   "outputs": [],
   "source": [
    "df_clean = df_clean[df_clean.member_birth_year >= 1922]"
   ]
  },
  {
   "cell_type": "markdown",
   "metadata": {},
   "source": [
    "##### Test"
   ]
  },
  {
   "cell_type": "code",
   "execution_count": null,
   "metadata": {},
   "outputs": [],
   "source": [
    "df_clean.member_birth_year.min()"
   ]
  },
  {
   "cell_type": "markdown",
   "metadata": {},
   "source": [
    "### Feature Engineering"
   ]
  },
  {
   "cell_type": "markdown",
   "metadata": {},
   "source": [
    "#### Converting duration to minutes"
   ]
  },
  {
   "cell_type": "markdown",
   "metadata": {},
   "source": [
    "##### Define\n",
    "We'll calculate the number of whole minutes every trip lasted, so the trip duration is more readable and interpretable."
   ]
  },
  {
   "cell_type": "markdown",
   "metadata": {},
   "source": [
    "##### Code"
   ]
  },
  {
   "cell_type": "code",
   "execution_count": null,
   "metadata": {},
   "outputs": [],
   "source": [
    "def convert_sec_to_min(duration_sec):\n",
    "    minutes, seconds = divmod(duration_sec, 60)\n",
    "    return minutes"
   ]
  },
  {
   "cell_type": "code",
   "execution_count": null,
   "metadata": {},
   "outputs": [],
   "source": [
    "df_clean['duration_min'] = df_clean.duration_sec.apply(convert_sec_to_min)"
   ]
  },
  {
   "cell_type": "code",
   "execution_count": null,
   "metadata": {},
   "outputs": [],
   "source": [
    "df_clean.drop(columns=['duration_sec'], inplace=True)"
   ]
  },
  {
   "cell_type": "markdown",
   "metadata": {},
   "source": [
    "##### Test"
   ]
  },
  {
   "cell_type": "code",
   "execution_count": null,
   "metadata": {},
   "outputs": [],
   "source": [
    "df_clean.head()"
   ]
  },
  {
   "cell_type": "markdown",
   "metadata": {},
   "source": [
    "#### Extracting more info on the dates"
   ]
  },
  {
   "cell_type": "markdown",
   "metadata": {},
   "source": [
    "##### Define\n",
    "\n",
    "We're extracting time of the day and weekday for each start and end time."
   ]
  },
  {
   "cell_type": "markdown",
   "metadata": {},
   "source": [
    "##### Code"
   ]
  },
  {
   "cell_type": "markdown",
   "metadata": {},
   "source": [
    "###### Start Time"
   ]
  },
  {
   "cell_type": "code",
   "execution_count": null,
   "metadata": {},
   "outputs": [],
   "source": [
    "start_parts = {\n",
    "    'start_time': df_clean.start_time,\n",
    "    'start_date': pd.to_datetime(df_clean.start_time.dt.date),\n",
    "    'start_hour': df_clean.start_time.dt.hour,\n",
    "    'start_weekday': df_clean.start_time.dt.day_name()\n",
    "}"
   ]
  },
  {
   "cell_type": "code",
   "execution_count": null,
   "metadata": {},
   "outputs": [],
   "source": [
    "start_df = pd.DataFrame(start_parts)"
   ]
  },
  {
   "cell_type": "code",
   "execution_count": null,
   "metadata": {},
   "outputs": [],
   "source": [
    "start_df.head()"
   ]
  },
  {
   "cell_type": "code",
   "execution_count": null,
   "metadata": {},
   "outputs": [],
   "source": [
    "df_clean = df_clean.merge(start_df, how='left', on='start_time')"
   ]
  },
  {
   "cell_type": "markdown",
   "metadata": {},
   "source": [
    "###### End time"
   ]
  },
  {
   "cell_type": "code",
   "execution_count": null,
   "metadata": {},
   "outputs": [],
   "source": [
    "end_parts = {\n",
    "    'end_time': df_clean.end_time,\n",
    "    'end_date': pd.to_datetime(df_clean.end_time.dt.date),\n",
    "    'end_hour': df_clean.end_time.dt.hour,\n",
    "    'end_weekday': df_clean.end_time.dt.day_name()\n",
    "}"
   ]
  },
  {
   "cell_type": "code",
   "execution_count": null,
   "metadata": {},
   "outputs": [],
   "source": [
    "end_df = pd.DataFrame(end_parts)"
   ]
  },
  {
   "cell_type": "code",
   "execution_count": null,
   "metadata": {},
   "outputs": [],
   "source": [
    "end_df.head()"
   ]
  },
  {
   "cell_type": "code",
   "execution_count": null,
   "metadata": {},
   "outputs": [],
   "source": [
    "df_clean = df_clean.merge(end_df, how='left', on='end_time')"
   ]
  },
  {
   "cell_type": "markdown",
   "metadata": {},
   "source": [
    "###### Weekdays"
   ]
  },
  {
   "cell_type": "code",
   "execution_count": null,
   "metadata": {},
   "outputs": [],
   "source": [
    "weekdays = ['Sunday', 'Monday', 'Tuesday', 'Wednesday', 'Thursday', 'Friday', 'Saturday']\n",
    "weekday_var = pd.api.types.CategoricalDtype(ordered=True, categories=weekdays)\n",
    "\n",
    "df_clean['start_weekday'] = df_clean['start_weekday'].astype(weekday_var)\n",
    "df_clean['end_weekday'] = df_clean['end_weekday'].astype(weekday_var)"
   ]
  },
  {
   "cell_type": "markdown",
   "metadata": {},
   "source": [
    "##### Test"
   ]
  },
  {
   "cell_type": "code",
   "execution_count": null,
   "metadata": {},
   "outputs": [],
   "source": [
    "df_clean.head()"
   ]
  },
  {
   "cell_type": "code",
   "execution_count": null,
   "metadata": {},
   "outputs": [],
   "source": [
    "df_clean.info()"
   ]
  },
  {
   "cell_type": "markdown",
   "metadata": {},
   "source": [
    "#### Getting people's generations"
   ]
  },
  {
   "cell_type": "markdown",
   "metadata": {},
   "source": [
    "##### Define\n",
    "First, we create bins for each generation based on birth years. After that, we'll create a categorical variable and assign each member their generation according to the bin they belong."
   ]
  },
  {
   "cell_type": "markdown",
   "metadata": {},
   "source": [
    "##### Code"
   ]
  },
  {
   "cell_type": "code",
   "execution_count": null,
   "metadata": {},
   "outputs": [],
   "source": [
    "gen_labels = ['WW II', 'Post War', 'Boomers I', 'Boomers II', 'Gen X', 'Millenials', 'Gen Z']\n",
    "gen_birth_years = [1922, 1927, 1945, 1954, 1964, 1980, 1996, 2012]"
   ]
  },
  {
   "cell_type": "code",
   "execution_count": null,
   "metadata": {},
   "outputs": [],
   "source": [
    "df_clean['member_generation'] = pd.cut(df_clean['member_birth_year'], gen_birth_years, labels=gen_labels, include_lowest=True, right=True)"
   ]
  },
  {
   "cell_type": "code",
   "execution_count": null,
   "metadata": {},
   "outputs": [],
   "source": [
    "member_gen_var = pd.api.types.CategoricalDtype(ordered=True, categories=gen_labels)\n",
    "df_clean['member_generation'] = df_clean['member_generation'].astype(member_gen_var)"
   ]
  },
  {
   "cell_type": "markdown",
   "metadata": {},
   "source": [
    "##### Test"
   ]
  },
  {
   "cell_type": "code",
   "execution_count": null,
   "metadata": {},
   "outputs": [],
   "source": [
    "df_clean.head()"
   ]
  },
  {
   "cell_type": "code",
   "execution_count": null,
   "metadata": {},
   "outputs": [],
   "source": [
    "for gen in df_clean.member_generation.cat.categories:\n",
    "    years = df_clean.query(\"member_generation == @gen\")['member_birth_year'].sort_values().unique()\n",
    "    print(gen, years)"
   ]
  },
  {
   "cell_type": "markdown",
   "metadata": {},
   "source": [
    "#### Getting users' ages"
   ]
  },
  {
   "cell_type": "markdown",
   "metadata": {},
   "source": [
    "##### Define\n",
    "\n",
    "Members' estimated age will be calculated in relation to the current year."
   ]
  },
  {
   "cell_type": "markdown",
   "metadata": {},
   "source": [
    "##### Code"
   ]
  },
  {
   "cell_type": "code",
   "execution_count": null,
   "metadata": {},
   "outputs": [],
   "source": [
    "df_clean['member_age'] = date.today().year - df_clean['member_birth_year']"
   ]
  },
  {
   "cell_type": "markdown",
   "metadata": {},
   "source": [
    "##### Test"
   ]
  },
  {
   "cell_type": "code",
   "execution_count": null,
   "metadata": {},
   "outputs": [],
   "source": [
    "df_clean.head()"
   ]
  },
  {
   "cell_type": "markdown",
   "metadata": {},
   "source": [
    "### More on the Dataset"
   ]
  },
  {
   "cell_type": "code",
   "execution_count": null,
   "metadata": {},
   "outputs": [],
   "source": [
    "df_clean.info()"
   ]
  },
  {
   "cell_type": "markdown",
   "metadata": {},
   "source": [
    "#### Structure\n",
    "\n",
    "The clean version of our dataset has **175,164 trips with 19 features**, as seen above.\n",
    "\n",
    "We've got a pretty fair balance in the amount of **categorical** and **numerical** variables."
   ]
  },
  {
   "cell_type": "markdown",
   "metadata": {},
   "source": [
    "#### Main Features of Interest\n",
    "\n",
    "This exploration aims to find the best variables for predicting the **trip duration**.\n",
    "\n",
    "For now, we may expect weekdays, members' ages, and time of day to have considerable effect on trip duration."
   ]
  },
  {
   "cell_type": "markdown",
   "metadata": {},
   "source": [
    "## Univariate Exploration"
   ]
  },
  {
   "cell_type": "markdown",
   "metadata": {},
   "source": [
    "### Trip Duration"
   ]
  },
  {
   "cell_type": "code",
   "execution_count": null,
   "metadata": {},
   "outputs": [],
   "source": [
    "df_clean.duration_min.describe(percentiles=[.25, .5, .75, .99])"
   ]
  },
  {
   "cell_type": "markdown",
   "metadata": {},
   "source": [
    "<div class=\"alert alert-success\">\n",
    "    <b>About 99%</b> of the trips <b>lasted less than an hour</b>. We'll focus our analyses on these.\n",
    "</div>"
   ]
  },
  {
   "cell_type": "code",
   "execution_count": null,
   "metadata": {},
   "outputs": [],
   "source": [
    "# define our figure\n",
    "plt.figure(figsize=(15, 10))\n",
    "\n",
    "# bins\n",
    "dur_bins = np.arange(0, 60, 1)\n",
    "\n",
    "# plotting\n",
    "sns.histplot(df_clean, x='duration_min', bins=dur_bins, color=default_viz_colour)\n",
    "\n",
    "# final touches\n",
    "plt.xlabel('Trip Duration (min)')\n",
    "plt.ylabel('# of Trips')\n",
    "plt.show()"
   ]
  },
  {
   "cell_type": "markdown",
   "metadata": {},
   "source": [
    "Since this variable's distribution is positively skewed, let's try a logarithmic scale, so we're able to better visualise any trends."
   ]
  },
  {
   "cell_type": "code",
   "execution_count": null,
   "metadata": {},
   "outputs": [],
   "source": [
    "np.log10(df_clean.duration_min).describe()"
   ]
  },
  {
   "cell_type": "code",
   "execution_count": null,
   "metadata": {},
   "outputs": [],
   "source": [
    "dur_binsize_log = 0.1\n",
    "dur_bins_log = 10 ** np.arange(0, np.log10(df_clean.duration_min.max()) + dur_binsize_log, dur_binsize_log)"
   ]
  },
  {
   "cell_type": "code",
   "execution_count": null,
   "metadata": {},
   "outputs": [],
   "source": [
    "# defining our figure\n",
    "plt.figure(figsize=(15, 10))\n",
    "\n",
    "# plotting\n",
    "p = sns.histplot(df_clean, x='duration_min', bins=dur_bins_log, color=default_viz_colour)\n",
    "\n",
    "# scaling\n",
    "p.set_xscale('log')\n",
    "\n",
    "# x-labels\n",
    "p_xticks = [1, 3, 5, 10, 15, 20, 30, 45, 60]\n",
    "p.set_xticks(p_xticks)\n",
    "p.set_xticklabels(p_xticks)\n",
    "\n",
    "# finishing touches\n",
    "p.set_xlabel('Trip Duration (min)')\n",
    "p.set_ylabel('# of Trips')\n",
    "plt.show()"
   ]
  },
  {
   "cell_type": "markdown",
   "metadata": {},
   "source": [
    "<div class=\"alert alert-success\">\n",
    "    <ul>\n",
    "        <li>An <b>average trip</b> lasts <b>11 minutes</b>.</li>\n",
    "        <li>Most of the trips last <b>between 4 and 15 minutes</b>, hinting at the public's preference for trips shorter in time, and possibly in distance. Unfortunately, we have no information on the distance travelled to do such investigation.</li>\n",
    "    </ul>\n",
    "</div>"
   ]
  },
  {
   "cell_type": "markdown",
   "metadata": {},
   "source": [
    "#### Longer Trips\n",
    "\n",
    "Let's take a deeper look into trips that last more than an hour."
   ]
  },
  {
   "cell_type": "code",
   "execution_count": null,
   "metadata": {},
   "outputs": [],
   "source": [
    "df_longer = df_clean.query(\"duration_min > 60\").reset_index(drop=True)"
   ]
  },
  {
   "cell_type": "code",
   "execution_count": null,
   "metadata": {},
   "outputs": [],
   "source": [
    "df_longer.shape[0]"
   ]
  },
  {
   "cell_type": "code",
   "execution_count": null,
   "metadata": {},
   "outputs": [],
   "source": [
    "df_longer.describe(percentiles=[.25, .5, .75, .90, .95, .99])"
   ]
  },
  {
   "cell_type": "code",
   "execution_count": null,
   "metadata": {},
   "outputs": [],
   "source": [
    "df_longer[df_longer.start_date != df_longer.end_date]['start_date'].count()"
   ]
  },
  {
   "cell_type": "markdown",
   "metadata": {},
   "source": [
    "<div class=\"alert alert-success\">\n",
    "    <ul>\n",
    "        <li><b>Longer trips</b> last 193 minutes (or <b>3 hours and 13 minutes</b>) on <b>average</b>. However, it's important to notice the <i>huge standard deviation and value range</i>, going from 61 minutes to about 1400 minutes.</li>\n",
    "        <li><b>75%</b> of these trips last <b>between 1 and 3 hours</b>.</li>\n",
    "        <li><b>Most</b> of them <b>start and end in the same day</b>.</li>\n",
    "    </ul>\n",
    "</div>"
   ]
  },
  {
   "cell_type": "markdown",
   "metadata": {},
   "source": [
    "### Weekday and Time of Day"
   ]
  },
  {
   "cell_type": "code",
   "execution_count": null,
   "metadata": {},
   "outputs": [],
   "source": [
    "# defining our figure\n",
    "fig, ax = plt.subplots(ncols=2, nrows=2, figsize=(30, 20))\n",
    "\n",
    "# plotting\n",
    "sns.countplot(data=df_clean, x='start_weekday', ax=ax[0, 0], color=default_viz_colour)\n",
    "sns.countplot(data=df_clean, x='start_hour', ax=ax[0, 1], color=default_viz_colour)\n",
    "sns.countplot(data=df_clean, x='end_weekday', ax=ax[1, 0], color=default_viz_colour)\n",
    "sns.countplot(data=df_clean, x='end_hour', ax=ax[1, 1], color=default_viz_colour)\n",
    "\n",
    "# titles\n",
    "ax[0, 0].set_title('Start Weekday')\n",
    "ax[0, 1].set_title('Start Hour')\n",
    "ax[1, 0].set_title('End Weekday')\n",
    "ax[1, 1].set_title('End Hour')\n",
    "\n",
    "# labels\n",
    "fig.suptitle(\"Trips per Weekday and Time of Day\", fontsize=20)\n",
    "plt.setp(ax, xlabel=None, ylabel=None)\n",
    "\n",
    "# finishing touches\n",
    "plt.show()"
   ]
  },
  {
   "cell_type": "markdown",
   "metadata": {},
   "source": [
    "<div class=\"alert alert-success\">\n",
    "    <ul>\n",
    "        <li>The public seems to prefer bike trips on <b>Tuesdays</b> and <b>Thursdays</b>.</li>\n",
    "        <li><b>Most trips</b> happen on <b>workdays, between 8 am and 6 pm</b>, with the highest numbers of bikers starting and ending their trips during rush hours, indicating the clients prefer to use GoBike services for their daily commutes.</li>\n",
    "    </ul>\n",
    "</div>"
   ]
  },
  {
   "cell_type": "markdown",
   "metadata": {},
   "source": [
    "#### Longer Trips"
   ]
  },
  {
   "cell_type": "code",
   "execution_count": null,
   "metadata": {},
   "outputs": [],
   "source": [
    "# defining our figure\n",
    "fig, ax = plt.subplots(ncols=2, nrows=2, figsize=(30, 20))\n",
    "\n",
    "# plotting\n",
    "sns.countplot(data=df_longer, x='start_weekday', ax=ax[0, 0], color=default_viz_colour)\n",
    "sns.countplot(data=df_longer, x='start_hour', ax=ax[0, 1], color=default_viz_colour)\n",
    "sns.countplot(data=df_longer, x='end_weekday', ax=ax[1, 0], color=default_viz_colour)\n",
    "sns.countplot(data=df_longer, x='end_hour', ax=ax[1, 1], color=default_viz_colour)\n",
    "\n",
    "# titles\n",
    "ax[0, 0].set_title('Start Weekday')\n",
    "ax[0, 1].set_title('Start Hour')\n",
    "ax[1, 0].set_title('End Weekday')\n",
    "ax[1, 1].set_title('End Hour')\n",
    "\n",
    "# labels\n",
    "fig.suptitle(\"Longer Trips per Weekday and Time of Day\", fontsize=20)\n",
    "plt.setp(ax, xlabel=None, ylabel=None)\n",
    "\n",
    "# finishing touches\n",
    "plt.show()"
   ]
  },
  {
   "cell_type": "markdown",
   "metadata": {},
   "source": [
    "<div class=\"alert alert-success\">\n",
    "    <b>Most longer trips</b> happen on <b>weekends</b>, during the <b>afternoon</b>.\n",
    "</div>"
   ]
  },
  {
   "cell_type": "markdown",
   "metadata": {},
   "source": [
    "### Generations"
   ]
  },
  {
   "cell_type": "code",
   "execution_count": null,
   "metadata": {},
   "outputs": [],
   "source": [
    "# defining our figure\n",
    "fig, ax = plt.subplots(ncols=2, figsize=(30, 10))\n",
    "\n",
    "# plotting\n",
    "sns.countplot(data=df_clean, x='member_generation', ax=ax[0], color=default_viz_colour)\n",
    "sns.countplot(data=df_longer, x='member_generation', ax=ax[1], color=default_viz_colour)\n",
    "\n",
    "# titles\n",
    "fig.suptitle(\"Trips by Generation\", fontsize=20)\n",
    "ax[0].set_title('All Trips')\n",
    "ax[1].set_title('Longer Trips (1+ Hour)')\n",
    "\n",
    "# labels\n",
    "plt.setp(ax, xlabel=None, ylabel=None)\n",
    "\n",
    "# finishing touches\n",
    "plt.show()"
   ]
  },
  {
   "cell_type": "markdown",
   "metadata": {},
   "source": [
    "<div class=\"alert alert-success\">\n",
    "    The vast majority of trips were made by <b>Millenials</b>, born between 1984 and 1996.\n",
    "</div>"
   ]
  },
  {
   "cell_type": "markdown",
   "metadata": {},
   "source": [
    "### Gender"
   ]
  },
  {
   "cell_type": "code",
   "execution_count": null,
   "metadata": {},
   "outputs": [],
   "source": [
    "# defining our figure\n",
    "fig, ax = plt.subplots(ncols=2, figsize=(30, 10))\n",
    "\n",
    "# plotting\n",
    "sns.countplot(data=df_clean, x='member_gender', ax=ax[0], color=default_viz_colour, order=df_clean.member_gender.value_counts().index)\n",
    "sns.countplot(data=df_longer, x='member_gender', ax=ax[1], color=default_viz_colour, order=df_longer.member_gender.value_counts().index)\n",
    "\n",
    "# titles\n",
    "fig.suptitle(\"Trips by Gender\", fontsize=20)\n",
    "ax[0].set_title('All Trips')\n",
    "ax[1].set_title('Longer Trips (1+ Hour)')\n",
    "\n",
    "# labels\n",
    "plt.setp(ax, xlabel=None, ylabel=None)\n",
    "\n",
    "# finishing touches\n",
    "plt.show()"
   ]
  },
  {
   "cell_type": "code",
   "execution_count": null,
   "metadata": {},
   "outputs": [],
   "source": [
    "df_clean.member_gender.value_counts(normalize=True)"
   ]
  },
  {
   "cell_type": "markdown",
   "metadata": {},
   "source": [
    "<div class=\"alert alert-success\">\n",
    "    <b>74%</b> the trips were made by clients who identify as <b>male</b>, <b>23%</b> were by females, and only <b>2%</b> of the trips were of clients of other genders.\n",
    "</div>"
   ]
  },
  {
   "cell_type": "markdown",
   "metadata": {},
   "source": [
    "### User Type"
   ]
  },
  {
   "cell_type": "code",
   "execution_count": null,
   "metadata": {},
   "outputs": [],
   "source": [
    "# defining our figure\n",
    "fig, ax = plt.subplots(ncols=2, figsize=(30, 10))\n",
    "\n",
    "# plotting\n",
    "sns.countplot(data=df_clean, x='user_type', ax=ax[0], color=default_viz_colour, order=df_clean.user_type.value_counts().index)\n",
    "sns.countplot(data=df_longer, x='user_type', ax=ax[1], color=default_viz_colour, order=df_longer.user_type.value_counts().index)\n",
    "\n",
    "# titles\n",
    "fig.suptitle(\"Trips by User Type\", fontsize=20)\n",
    "ax[0].set_title('All Trips')\n",
    "ax[1].set_title('Longer Trips (1+ Hour)')\n",
    "\n",
    "# labels\n",
    "plt.setp(ax, xlabel=None, ylabel=None)\n",
    "\n",
    "# finishing touches\n",
    "plt.show()"
   ]
  },
  {
   "cell_type": "markdown",
   "metadata": {},
   "source": [
    "<div class=\"alert alert-success\">\n",
    "    <ul>\n",
    "        <li>We can see there are <b>way more subscribers</b> than customers.</li>\n",
    "        <li>For <b>longer trips</b>, there's a <b>balance between customers and subscribers</b>.</li>\n",
    "    </ul>\n",
    "</div>"
   ]
  },
  {
   "cell_type": "markdown",
   "metadata": {},
   "source": [
    "### Age"
   ]
  },
  {
   "cell_type": "code",
   "execution_count": null,
   "metadata": {},
   "outputs": [],
   "source": [
    "# defining our figure\n",
    "fig, ax = plt.subplots(ncols=2, figsize=(30, 10))\n",
    "\n",
    "# bins\n",
    "age_bins = np.arange(0, 100, 1)\n",
    "\n",
    "# plotting\n",
    "sns.histplot(data=df_clean, x='member_age', ax=ax[0], bins=age_bins, color=default_viz_colour)\n",
    "sns.histplot(data=df_longer, x='member_age', ax=ax[1], bins=age_bins, color=default_viz_colour)\n",
    "\n",
    "# titles\n",
    "fig.suptitle(\"Trips by Users' Age\", fontsize=20)\n",
    "ax[0].set_title('All Trips')\n",
    "ax[1].set_title('Longer Trips (1+ Hour)')\n",
    "\n",
    "# labels\n",
    "plt.setp(ax, xlabel=None, ylabel=None)\n",
    "\n",
    "# finishing touches\n",
    "plt.show()"
   ]
  },
  {
   "cell_type": "code",
   "execution_count": null,
   "metadata": {},
   "outputs": [],
   "source": [
    "df_clean.member_age.describe()"
   ]
  },
  {
   "cell_type": "code",
   "execution_count": null,
   "metadata": {},
   "outputs": [],
   "source": [
    "df_longer.member_age.describe()"
   ]
  },
  {
   "cell_type": "markdown",
   "metadata": {},
   "source": [
    "Once again, we have a variable with positively skewed distribution. As we've done in previous analyses, we'll change to a logarithmic scale."
   ]
  },
  {
   "cell_type": "code",
   "execution_count": null,
   "metadata": {},
   "outputs": [],
   "source": [
    "np.log10(df_clean.member_age).describe()"
   ]
  },
  {
   "cell_type": "code",
   "execution_count": null,
   "metadata": {},
   "outputs": [],
   "source": [
    "age_binsize_log = 0.03"
   ]
  },
  {
   "cell_type": "code",
   "execution_count": null,
   "metadata": {},
   "outputs": [],
   "source": [
    "age_overall_bins_log = 10 ** np.arange(1.32, np.log10(df_clean.member_age.max()) + age_binsize_log, age_binsize_log)"
   ]
  },
  {
   "cell_type": "code",
   "execution_count": null,
   "metadata": {},
   "outputs": [],
   "source": [
    "np.log10(df_longer.member_age).describe()"
   ]
  },
  {
   "cell_type": "code",
   "execution_count": null,
   "metadata": {},
   "outputs": [],
   "source": [
    "age_longer_bins_log = 10 ** np.arange(1.32, np.log10(df_longer.member_age.max()) + age_binsize_log, age_binsize_log)"
   ]
  },
  {
   "cell_type": "code",
   "execution_count": null,
   "metadata": {},
   "outputs": [],
   "source": [
    "# defining our figure\n",
    "fig, ax = plt.subplots(ncols=2, figsize=(30, 10))\n",
    "\n",
    "# plotting\n",
    "sns.histplot(data=df_clean, x='member_age', ax=ax[0], bins=age_overall_bins_log, color=default_viz_colour)\n",
    "sns.histplot(data=df_longer, x='member_age', ax=ax[1], bins=age_longer_bins_log, color=default_viz_colour)\n",
    "\n",
    "# scaling\n",
    "ax[0].set_xscale('log')\n",
    "ax[1].set_xscale('log')\n",
    "\n",
    "# x-labels\n",
    "ax_xticks = [20, 25, 30, 35, 40, 45, 50, 55, 60, 65, 70, 75, 80]\n",
    "\n",
    "ax[0].set_xticks(ax_xticks)\n",
    "ax[0].set_xticklabels(ax_xticks)\n",
    "ax[1].set_xticks(ax_xticks)\n",
    "ax[1].set_xticklabels(ax_xticks)\n",
    "\n",
    "# titles\n",
    "fig.suptitle(\"Trips by Users' Age (Logarithmic Scale)\", fontsize=20)\n",
    "ax[0].set_title('All Trips')\n",
    "ax[1].set_title('Longer Trips (1+ Hour)')\n",
    "\n",
    "# labels\n",
    "plt.setp(ax, xlabel=None, ylabel=None)\n",
    "\n",
    "# finishing touches\n",
    "plt.show()"
   ]
  },
  {
   "cell_type": "markdown",
   "metadata": {},
   "source": [
    "<div class=\"alert alert-success\">\n",
    "    <ul>\n",
    "        <li>The <b>average</b> age is <b>37 years old</b>.</li>\n",
    "        <li>Also in both scenarios, <b>75%</b> of the trips belong to people <b>under 45 years old</b>.</li>\n",
    "    </ul>\n",
    "</div>"
   ]
  },
  {
   "cell_type": "markdown",
   "metadata": {},
   "source": [
    "### Stations"
   ]
  },
  {
   "cell_type": "code",
   "execution_count": null,
   "metadata": {},
   "outputs": [],
   "source": [
    "top5_start_stations = df_clean.start_station_name.value_counts()[:5]\n",
    "top5_end_stations = df_clean.end_station_name.value_counts()[:5]"
   ]
  },
  {
   "cell_type": "code",
   "execution_count": null,
   "metadata": {},
   "outputs": [],
   "source": [
    "# defining our figure\n",
    "fig, ax = plt.subplots(nrows=2, figsize=(15, 20))\n",
    "\n",
    "# plotting\n",
    "sns.barplot(x=top5_start_stations.values, y=top5_start_stations.index, ax=ax[0], color=default_viz_colour)\n",
    "sns.barplot(x=top5_end_stations.values, y=top5_end_stations.index, ax=ax[1], color=default_viz_colour)\n",
    "\n",
    "# titles\n",
    "ax[0].set_title('Start Stations')\n",
    "ax[1].set_title('End Stations')\n",
    "\n",
    "# labels\n",
    "plt.setp(ax, xlabel=None, ylabel=None)\n",
    "\n",
    "# finishing touches\n",
    "plt.show()"
   ]
  },
  {
   "cell_type": "markdown",
   "metadata": {},
   "source": [
    "<div class=\"alert alert-success\">\n",
    "    <ul>\n",
    "        <li>Out of the 5 most popular start stations, <b>three of them are public transport stations</b>.</li>\n",
    "        <li>Two of the top end stations, <b>Market St and Ferry Building</b>, are <b>famous San Francisco tourist attractions.</li>\n",
    "    </ul>\n",
    "</div>"
   ]
  },
  {
   "cell_type": "markdown",
   "metadata": {},
   "source": [
    "### Start and End Coordinates\n",
    "This map is interactive! If you're seeing the HTML version of this Notebook, you can drag this map and click on each bubble to expand the starting points."
   ]
  },
  {
   "cell_type": "code",
   "execution_count": null,
   "metadata": {},
   "outputs": [],
   "source": [
    "# creating a basic map\n",
    "sf_map = folium.Map(location=[37.595917, -122.193127], tiles='cartodbpositron', zoom_start=10)\n",
    "\n",
    "# adding start station points to the map\n",
    "sf_markers = MarkerCluster()\n",
    "\n",
    "for idx, point in df_clean.iterrows():\n",
    "    sf_markers.add_child(Marker([point['start_station_latitude'], point['start_station_longitude']]))\n",
    "\n",
    "sf_map.add_child(sf_markers)\n",
    "\n",
    "# showing the map\n",
    "sf_map"
   ]
  },
  {
   "cell_type": "markdown",
   "metadata": {},
   "source": [
    "<div class=\"alert alert-success\">\n",
    "    <ul>\n",
    "        <li>All of our trips spread across <b>San Francisco</b>, <b>Berkeley</b>, <b>Oakland</b>, <b>San Jose</b>, and other areas nearby.</li>\n",
    "        <li>The <b>vast majority</b> of the trips happened in <b>San Francisco</b>, followed by <b>Oakland</b> and <b>Berkeley</b>.</li>\n",
    "    </ul>\n",
    "</div>"
   ]
  },
  {
   "cell_type": "markdown",
   "metadata": {},
   "source": [
    "## Bivariate Exploration"
   ]
  },
  {
   "cell_type": "code",
   "execution_count": null,
   "metadata": {},
   "outputs": [],
   "source": [
    "numeric_vars = ['duration_min', 'start_hour', 'end_hour', 'member_age']\n",
    "categorical_vars = ['user_type', 'member_generation', 'member_gender', 'bike_share_for_all_trip', 'start_weekday', 'end_weekday']"
   ]
  },
  {
   "cell_type": "markdown",
   "metadata": {},
   "source": [
    "### Numeric vs Numeric"
   ]
  },
  {
   "cell_type": "markdown",
   "metadata": {},
   "source": [
    "We can use dates to find correlations with other numeric variables as well. To do that, we must convert dates to `numeric` data type, as below:"
   ]
  },
  {
   "cell_type": "code",
   "execution_count": null,
   "metadata": {},
   "outputs": [],
   "source": [
    "df_clean['start_date_num'] = pd.to_numeric(df_clean['start_date'])\n",
    "df_clean['end_date_num'] = pd.to_numeric(df_clean['end_date'])"
   ]
  },
  {
   "cell_type": "code",
   "execution_count": null,
   "metadata": {},
   "outputs": [],
   "source": [
    "numeric_vars.append('start_date_num')\n",
    "numeric_vars.append('end_date_num')"
   ]
  },
  {
   "cell_type": "markdown",
   "metadata": {},
   "source": [
    "Checking if it worked:"
   ]
  },
  {
   "cell_type": "code",
   "execution_count": null,
   "metadata": {},
   "outputs": [],
   "source": [
    "df_clean.head()"
   ]
  },
  {
   "cell_type": "code",
   "execution_count": null,
   "metadata": {},
   "outputs": [],
   "source": [
    "numeric_vars"
   ]
  },
  {
   "cell_type": "markdown",
   "metadata": {},
   "source": [
    "#### Plot Matrix\n",
    "\n",
    "We'll use a 500-row sample to simplify our plot."
   ]
  },
  {
   "cell_type": "code",
   "execution_count": null,
   "metadata": {},
   "outputs": [],
   "source": [
    "num_sample_idx = np.random.choice(a=df_clean.shape[0], size=500, replace=False)\n",
    "num_sample = df_clean.loc[num_sample_idx, :]"
   ]
  },
  {
   "cell_type": "code",
   "execution_count": null,
   "metadata": {},
   "outputs": [],
   "source": [
    "# plotting\n",
    "g = sns.PairGrid(data=num_sample, vars=numeric_vars)\n",
    "g = g.map_diag(sns.histplot, bins=30, color=default_viz_colour)\n",
    "g.map_offdiag(sns.scatterplot, color=default_viz_colour)\n",
    "\n",
    "# finishing touches\n",
    "plt.show()"
   ]
  },
  {
   "cell_type": "markdown",
   "metadata": {},
   "source": [
    "#### Correlation Plot"
   ]
  },
  {
   "cell_type": "code",
   "execution_count": null,
   "metadata": {},
   "outputs": [],
   "source": [
    "# defining our figure\n",
    "plt.figure(figsize=(10, 8))\n",
    "\n",
    "# plotting\n",
    "sns.heatmap(data=df_clean[numeric_vars].corr(), annot=True, center=0, cmap=default_viz_palette)\n",
    "\n",
    "# finishing touches\n",
    "plt.show()"
   ]
  },
  {
   "cell_type": "markdown",
   "metadata": {},
   "source": [
    "<div class=\"alert alert-success\">\n",
    "    By the two visualisations above, the only strong correlation found is between <b>start and end hours</b>, which is completely expected. The other combinations didn't show any significant correlation.\n",
    "</div>"
   ]
  },
  {
   "cell_type": "markdown",
   "metadata": {},
   "source": [
    "### Categorical vs Numeric\n",
    "Over the next few plots, we're working with bigger samples (3k rows), since they're visually simpler.\n",
    "\n",
    "We'll also get longer trips and investigate them separately, as done in our multivariate exploration."
   ]
  },
  {
   "cell_type": "code",
   "execution_count": null,
   "metadata": {},
   "outputs": [],
   "source": [
    "df_one_hour = df_clean.query(\"duration_min <= 60\").reset_index(drop=True)"
   ]
  },
  {
   "cell_type": "code",
   "execution_count": null,
   "metadata": {},
   "outputs": [],
   "source": [
    "cat_general_sample_idx = np.random.choice(a=df_one_hour.shape[0], size=3000, replace=False)\n",
    "cat_general_sample = df_one_hour.loc[cat_general_sample_idx, :]"
   ]
  },
  {
   "cell_type": "code",
   "execution_count": null,
   "metadata": {},
   "outputs": [],
   "source": [
    "cat_long_sample_idx = np.random.choice(a=df_longer.shape[0], size=500, replace=False)\n",
    "cat_long_sample = df_longer.loc[cat_long_sample_idx, :]"
   ]
  },
  {
   "cell_type": "markdown",
   "metadata": {},
   "source": [
    "#### **Trip Duration and Start Hour** vs **Gender, Generation, and User Type**"
   ]
  },
  {
   "cell_type": "markdown",
   "metadata": {},
   "source": [
    "##### Up to 1 Hour"
   ]
  },
  {
   "cell_type": "code",
   "execution_count": null,
   "metadata": {},
   "outputs": [],
   "source": [
    "# defining our figure\n",
    "plt.figure(figsize=(15, 30))\n",
    "\n",
    "# plotting\n",
    "g = sns.PairGrid(data=cat_general_sample, y_vars=['duration_min', 'start_hour'], x_vars=['member_gender', 'member_generation', 'user_type'], height=10)\n",
    "g.map(sns.violinplot, color=default_viz_colour, cut=0)\n",
    "\n",
    "# finishing touches\n",
    "plt.show()"
   ]
  },
  {
   "cell_type": "markdown",
   "metadata": {},
   "source": [
    "##### More than 1 Hour"
   ]
  },
  {
   "cell_type": "code",
   "execution_count": null,
   "metadata": {},
   "outputs": [],
   "source": [
    "# defining our figure\n",
    "plt.figure(figsize=(15, 30))\n",
    "\n",
    "# plotting\n",
    "g = sns.PairGrid(data=cat_long_sample, y_vars=['duration_min', 'start_hour'], x_vars=['member_gender', 'member_generation', 'user_type'], height=10)\n",
    "g.map(sns.violinplot, color=default_viz_colour, cut=0)\n",
    "\n",
    "# finishing touches\n",
    "plt.show()"
   ]
  },
  {
   "cell_type": "markdown",
   "metadata": {},
   "source": [
    "<div class=\"alert alert-success\">\n",
    "    blablabla\n",
    "</div>"
   ]
  },
  {
   "cell_type": "markdown",
   "metadata": {},
   "source": [
    "#### **Weekday** vs **Start Hour and Trip Duration**"
   ]
  },
  {
   "cell_type": "markdown",
   "metadata": {},
   "source": [
    "##### Up to 1 Hour"
   ]
  },
  {
   "cell_type": "code",
   "execution_count": null,
   "metadata": {},
   "outputs": [],
   "source": [
    "# defining our figure\n",
    "plt.figure(figsize=(15, 10))\n",
    "\n",
    "# plotting\n",
    "g = sns.PairGrid(data=cat_general_sample, y_vars=['duration_min', 'start_hour'], x_vars=['start_weekday'], height=10)\n",
    "g.map(sns.violinplot, color=default_viz_colour, cut=0)\n",
    "\n",
    "# finishing touches\n",
    "plt.show()"
   ]
  },
  {
   "cell_type": "markdown",
   "metadata": {},
   "source": [
    "##### More than 1 Hour"
   ]
  },
  {
   "cell_type": "code",
   "execution_count": null,
   "metadata": {},
   "outputs": [],
   "source": [
    "# defining our figure\n",
    "plt.figure(figsize=(15, 10))\n",
    "\n",
    "# plotting\n",
    "g = sns.PairGrid(data=cat_long_sample, y_vars=['duration_min', 'start_hour'], x_vars=['start_weekday'], height=10)\n",
    "g.map(sns.violinplot, color=default_viz_colour, cut=0)\n",
    "\n",
    "# finishing touches\n",
    "plt.show()"
   ]
  },
  {
   "cell_type": "markdown",
   "metadata": {},
   "source": [
    "<div class=\"alert alert-success\">\n",
    "    blablabla\n",
    "</div>"
   ]
  },
  {
   "cell_type": "markdown",
   "metadata": {},
   "source": [
    "### Categorical vs Categorical"
   ]
  },
  {
   "cell_type": "markdown",
   "metadata": {},
   "source": [
    "#### **User Type** vs **Weekdays**"
   ]
  },
  {
   "cell_type": "markdown",
   "metadata": {},
   "source": [
    "##### Up to 1 Hour"
   ]
  },
  {
   "cell_type": "code",
   "execution_count": null,
   "metadata": {},
   "outputs": [],
   "source": [
    "# defining our figure\n",
    "plt.figure(figsize=(15, 10))\n",
    "\n",
    "# plotting\n",
    "fig = sns.countplot(data=df_clean, x='start_weekday', hue='user_type', palette=default_viz_palette)\n",
    "\n",
    "# finishing touches\n",
    "plt.title(\"Trips per Starting Weekday\")\n",
    "plt.setp(fig, xlabel=None, ylabel=None)\n",
    "plt.legend(title=\"User Type\")\n",
    "plt.show()"
   ]
  },
  {
   "cell_type": "markdown",
   "metadata": {},
   "source": [
    "##### More than 1 Hour"
   ]
  },
  {
   "cell_type": "code",
   "execution_count": null,
   "metadata": {},
   "outputs": [],
   "source": [
    "# defining our figure\n",
    "plt.figure(figsize=(15, 10))\n",
    "\n",
    "# plotting\n",
    "fig = sns.countplot(data=df_longer, x='start_weekday', hue='user_type', palette=default_viz_palette)\n",
    "\n",
    "# finishing touches\n",
    "plt.title(\"Longer Trips per Starting Weekday\")\n",
    "plt.setp(fig, xlabel=None, ylabel=None)\n",
    "plt.legend(title=\"User Type\")\n",
    "plt.show()"
   ]
  },
  {
   "cell_type": "markdown",
   "metadata": {},
   "source": [
    "<div class=\"alert alert-success\">\n",
    "    blablabla\n",
    "</div>"
   ]
  },
  {
   "cell_type": "markdown",
   "metadata": {},
   "source": [
    "#### **Generations** vs **Weekdays**"
   ]
  },
  {
   "cell_type": "markdown",
   "metadata": {},
   "source": [
    "##### Up to 1 Hour"
   ]
  },
  {
   "cell_type": "code",
   "execution_count": null,
   "metadata": {},
   "outputs": [],
   "source": [
    "# plotting w faceting\n",
    "grid = sns.FacetGrid(data=df_clean, col='member_generation', sharex=False, sharey=False, col_wrap=3, height=8)\n",
    "grid.map(sns.countplot, 'start_weekday', palette=default_viz_palette)\n",
    "\n",
    "# finishing touches\n",
    "grid.set_axis_labels(\"\", \"\")\n",
    "grid.fig.subplots_adjust(top=0.95)\n",
    "grid.fig.suptitle(\"Generations vs Weekdays\")\n",
    "plt.show()"
   ]
  },
  {
   "cell_type": "markdown",
   "metadata": {},
   "source": [
    "##### More than 1 Hour"
   ]
  },
  {
   "cell_type": "code",
   "execution_count": null,
   "metadata": {},
   "outputs": [],
   "source": [
    "# plotting w faceting\n",
    "grid = sns.FacetGrid(data=df_longer, col='member_generation', sharex=False, sharey=False, col_wrap=3, height=8)\n",
    "grid.map(sns.countplot, 'start_weekday', palette=default_viz_palette)\n",
    "\n",
    "# finishing touches\n",
    "grid.set_axis_labels(\"\", \"\")\n",
    "grid.fig.subplots_adjust(top=0.95)\n",
    "grid.fig.suptitle(\"Generations vs Weekdays (Longer Trips)\")\n",
    "plt.show()"
   ]
  },
  {
   "cell_type": "markdown",
   "metadata": {},
   "source": [
    "<div class=\"alert alert-success\">\n",
    "    blablabla\n",
    "</div>"
   ]
  },
  {
   "cell_type": "markdown",
   "metadata": {},
   "source": [
    "#### **User Type** vs **Generation**"
   ]
  },
  {
   "cell_type": "markdown",
   "metadata": {},
   "source": [
    "##### Up to 1 Hour"
   ]
  },
  {
   "cell_type": "code",
   "execution_count": null,
   "metadata": {},
   "outputs": [],
   "source": [
    "# defining our figure\n",
    "plt.figure(figsize=(15, 10))\n",
    "\n",
    "# plotting\n",
    "fig = sns.countplot(data=df_clean, x='member_generation', hue='user_type', palette=default_viz_palette)\n",
    "\n",
    "# finishing touches\n",
    "plt.title(\"Trips per Generation and User Type\")\n",
    "plt.setp(fig, xlabel=None, ylabel=None)\n",
    "plt.legend(title=\"User Type\")\n",
    "plt.show()"
   ]
  },
  {
   "cell_type": "markdown",
   "metadata": {},
   "source": [
    "##### More than 1 Hour"
   ]
  },
  {
   "cell_type": "code",
   "execution_count": null,
   "metadata": {},
   "outputs": [],
   "source": [
    "# defining our figure\n",
    "plt.figure(figsize=(15, 10))\n",
    "\n",
    "# plotting\n",
    "fig = sns.countplot(data=df_clean, x='member_generation', hue='user_type', palette=default_viz_palette)\n",
    "\n",
    "# finishing touches\n",
    "plt.title(\"Trips per Generation and User Type\")\n",
    "plt.setp(fig, xlabel=None, ylabel=None)\n",
    "plt.legend(title=\"User Type\")\n",
    "plt.show()"
   ]
  },
  {
   "cell_type": "markdown",
   "metadata": {},
   "source": [
    "<div class=\"alert alert-success\">\n",
    "    blablabla\n",
    "</div>"
   ]
  },
  {
   "cell_type": "markdown",
   "metadata": {},
   "source": [
    "#### **User Type** vs **Gender**"
   ]
  },
  {
   "cell_type": "markdown",
   "metadata": {},
   "source": [
    "##### Up to 1 Hour"
   ]
  },
  {
   "cell_type": "code",
   "execution_count": null,
   "metadata": {},
   "outputs": [],
   "source": [
    "# defining our figure\n",
    "plt.figure(figsize=(15, 10))\n",
    "\n",
    "# plotting\n",
    "fig = sns.countplot(data=df_clean, x='member_gender', hue='user_type', palette=default_viz_palette)\n",
    "\n",
    "# finishing touches\n",
    "plt.title(\"Trips per Gender and User Type\")\n",
    "plt.setp(fig, xlabel=None, ylabel=None)\n",
    "plt.legend(title=\"User Type\")\n",
    "plt.show()"
   ]
  },
  {
   "cell_type": "markdown",
   "metadata": {},
   "source": [
    "##### More than 1 Hour"
   ]
  },
  {
   "cell_type": "code",
   "execution_count": null,
   "metadata": {},
   "outputs": [],
   "source": [
    "# defining our figure\n",
    "plt.figure(figsize=(15, 10))\n",
    "\n",
    "# plotting\n",
    "fig = sns.countplot(data=df_clean, x='member_gender', hue='user_type', palette=default_viz_palette)\n",
    "\n",
    "# finishing touches\n",
    "plt.title(\"Trips per Gender and User Type\")\n",
    "plt.setp(fig, xlabel=None, ylabel=None)\n",
    "plt.legend(title=\"User Type\")\n",
    "plt.show()"
   ]
  },
  {
   "cell_type": "markdown",
   "metadata": {},
   "source": [
    "<div class=\"alert alert-success\">\n",
    "    blablabla\n",
    "</div>"
   ]
  },
  {
   "cell_type": "markdown",
   "metadata": {},
   "source": [
    "#### **Generation** vs **Gender**"
   ]
  },
  {
   "cell_type": "markdown",
   "metadata": {},
   "source": [
    "##### Up to 1 Hour"
   ]
  },
  {
   "cell_type": "code",
   "execution_count": null,
   "metadata": {},
   "outputs": [],
   "source": [
    "# defining our figure\n",
    "plt.figure(figsize=(15, 10))\n",
    "\n",
    "# plotting\n",
    "fig = sns.countplot(data=df_clean, x='member_generation', hue='member_gender', palette=default_viz_palette)\n",
    "\n",
    "# finishing touches\n",
    "plt.title(\"Trips per Gender and Generation\")\n",
    "plt.setp(fig, xlabel=None, ylabel=None)\n",
    "plt.legend(title=\"Gender\")\n",
    "plt.show()"
   ]
  },
  {
   "cell_type": "markdown",
   "metadata": {},
   "source": [
    "##### More than 1 Hour"
   ]
  },
  {
   "cell_type": "code",
   "execution_count": null,
   "metadata": {},
   "outputs": [],
   "source": [
    "# defining our figure\n",
    "plt.figure(figsize=(15, 10))\n",
    "\n",
    "# plotting\n",
    "fig = sns.countplot(data=df_clean, x='member_generation', hue='member_gender', palette=default_viz_palette)\n",
    "\n",
    "# finishing touches\n",
    "plt.title(\"Trips per Gender and Generation\")\n",
    "plt.setp(fig, xlabel=None, ylabel=None)\n",
    "plt.legend(title=\"Gender\")\n",
    "plt.show()"
   ]
  },
  {
   "cell_type": "markdown",
   "metadata": {},
   "source": [
    "<div class=\"alert alert-success\">\n",
    "    blablabla\n",
    "</div>"
   ]
  },
  {
   "cell_type": "markdown",
   "metadata": {},
   "source": [
    "#### **Generation** vs **Bike for Entire Trip**"
   ]
  },
  {
   "cell_type": "markdown",
   "metadata": {},
   "source": [
    "##### Up to 1 Hour"
   ]
  },
  {
   "cell_type": "code",
   "execution_count": null,
   "metadata": {},
   "outputs": [],
   "source": [
    "# defining our figure\n",
    "plt.figure(figsize=(15, 10))\n",
    "\n",
    "# plotting\n",
    "fig = sns.countplot(data=df_clean, x='member_generation', hue='bike_share_for_all_trip', palette=default_viz_palette)\n",
    "\n",
    "# finishing touches\n",
    "plt.title(\"Trips according to Generation and Bike Usage\")\n",
    "plt.setp(fig, xlabel=None, ylabel=None)\n",
    "plt.legend(title=\"Bike for entire trip\")\n",
    "plt.show()"
   ]
  },
  {
   "cell_type": "markdown",
   "metadata": {},
   "source": [
    "##### More than 1 Hour"
   ]
  },
  {
   "cell_type": "code",
   "execution_count": null,
   "metadata": {},
   "outputs": [],
   "source": [
    "# defining our figure\n",
    "plt.figure(figsize=(15, 10))\n",
    "\n",
    "# plotting\n",
    "fig = sns.countplot(data=df_clean, x='member_generation', hue='bike_share_for_all_trip', palette=default_viz_palette)\n",
    "\n",
    "# finishing touches\n",
    "plt.title(\"Trips according to Generation and Bike Usage (Longer Trips)\")\n",
    "plt.setp(fig, xlabel=None, ylabel=None)\n",
    "plt.legend(title=\"Bike for entire trip\")\n",
    "plt.show()"
   ]
  },
  {
   "cell_type": "markdown",
   "metadata": {},
   "source": [
    "<div class=\"alert alert-success\">\n",
    "    blablabla\n",
    "</div>"
   ]
  },
  {
   "cell_type": "markdown",
   "metadata": {},
   "source": [
    "#### **User Type** vs **Bike for Entire Trip**"
   ]
  },
  {
   "cell_type": "markdown",
   "metadata": {},
   "source": [
    "##### Up to 1 Hour"
   ]
  },
  {
   "cell_type": "code",
   "execution_count": null,
   "metadata": {},
   "outputs": [],
   "source": [
    "# defining our figure\n",
    "plt.figure(figsize=(15, 10))\n",
    "\n",
    "# plotting\n",
    "fig = sns.countplot(data=df_clean, x='user_type', hue='bike_share_for_all_trip', palette=default_viz_palette)\n",
    "\n",
    "# annotations\n",
    "for p in fig.patches:\n",
    "    fig.annotate(f\"{p.get_height()}\", (p.get_x() + 0.15, p.get_height() + 150))\n",
    "\n",
    "# finishing touches\n",
    "plt.title(\"Trips according to User Type and Bike Usage\")\n",
    "plt.setp(fig, xlabel=None, ylabel=None)\n",
    "plt.legend(title=\"Bike for entire trip\")\n",
    "plt.show()"
   ]
  },
  {
   "cell_type": "markdown",
   "metadata": {},
   "source": [
    "##### More than 1 Hour"
   ]
  },
  {
   "cell_type": "code",
   "execution_count": null,
   "metadata": {},
   "outputs": [],
   "source": [
    "# defining our figure\n",
    "plt.figure(figsize=(15, 10))\n",
    "\n",
    "# plotting\n",
    "fig = sns.countplot(data=df_longer, x='user_type', hue='bike_share_for_all_trip', palette=default_viz_palette)\n",
    "\n",
    "# annotations\n",
    "for p in fig.patches:\n",
    "    fig.annotate(f\"{p.get_height()}\", (p.get_x() + 0.15, p.get_height() + 150))\n",
    "\n",
    "# finishing touches\n",
    "plt.title(\"Trips according to User Type and Bike Usage (Longer Trips)\")\n",
    "plt.setp(fig, xlabel=None, ylabel=None)\n",
    "plt.legend(title=\"Bike for entire trip\")\n",
    "plt.show()"
   ]
  },
  {
   "cell_type": "markdown",
   "metadata": {},
   "source": [
    "<div class=\"alert alert-success\">\n",
    "    blablabla\n",
    "</div>"
   ]
  },
  {
   "cell_type": "markdown",
   "metadata": {},
   "source": [
    "## Multivariate Exploration"
   ]
  },
  {
   "cell_type": "markdown",
   "metadata": {},
   "source": [
    "### **Generation** vs **Weekday** vs **Trip Duration**"
   ]
  },
  {
   "cell_type": "code",
   "execution_count": null,
   "metadata": {},
   "outputs": [],
   "source": [
    "# defining our figure\n",
    "plt.figure(figsize=(15, 10))\n",
    "\n",
    "# plotting\n",
    "ax = sns.pointplot(data=df_clean, x='start_weekday', y='duration_min', hue='member_generation', dodge=0.5, linestyles='', palette='RdPu')\n",
    "\n",
    "# finishing touches\n",
    "plt.title(\"Trip Duration across Generations and Weekdays\")\n",
    "plt.xlabel(None)\n",
    "plt.yticks([5, 10, 15, 20])\n",
    "plt.ylabel(\"Trip Duration (min)\")\n",
    "plt.legend(title=\"Generation\")\n",
    "\n",
    "plt.show()"
   ]
  },
  {
   "cell_type": "markdown",
   "metadata": {},
   "source": [
    "<div class=\"alert alert-success\">\n",
    "    blablabla\n",
    "</div>"
   ]
  },
  {
   "cell_type": "markdown",
   "metadata": {},
   "source": [
    "### **Age** vs **Gender** vs **Trip Duration** (TODO)"
   ]
  },
  {
   "cell_type": "code",
   "execution_count": null,
   "metadata": {},
   "outputs": [],
   "source": [
    "# defining our figure\n",
    "plt.figure(figsize=(15, 10))\n",
    "\n",
    "# plotting\n",
    "ax = sns.pointplot(data=df_clean, x='member_generation', y='duration_min', hue='member_gender', dodge=0.5, linestyles='', palette='RdPu')\n",
    "\n",
    "# finishing touches\n",
    "plt.title(\"Trip Duration across Ages and Genders\")\n",
    "plt.xlabel(None)\n",
    "# plt.yticks([5, 10, 15, 20])\n",
    "plt.ylabel(\"Trip Duration (min)\")\n",
    "plt.legend(title=\"Gender\")\n",
    "\n",
    "plt.show()"
   ]
  },
  {
   "cell_type": "markdown",
   "metadata": {},
   "source": [
    "<div class=\"alert alert-success\">\n",
    "    blablabla\n",
    "</div>"
   ]
  },
  {
   "cell_type": "markdown",
   "metadata": {},
   "source": [
    "### **Gender** vs **Weekday** vs **Trip Duration**"
   ]
  },
  {
   "cell_type": "code",
   "execution_count": null,
   "metadata": {},
   "outputs": [],
   "source": [
    "# defining our figure\n",
    "plt.figure(figsize=(15, 10))\n",
    "\n",
    "# plotting\n",
    "ax = sns.pointplot(data=df_clean, x='start_weekday', y='duration_min', hue='member_gender', dodge=0.5, linestyles='', palette='RdPu')\n",
    "\n",
    "# finishing touches\n",
    "plt.title(\"Trip Duration across Weekdays and Genders\")\n",
    "plt.xlabel(None)\n",
    "# plt.yticks([5, 10, 15, 20])\n",
    "plt.ylabel(\"Trip Duration (min)\")\n",
    "plt.legend(title=\"Gender\")\n",
    "\n",
    "plt.show()"
   ]
  },
  {
   "cell_type": "markdown",
   "metadata": {},
   "source": [
    "<div class=\"alert alert-success\">\n",
    "    blablabla\n",
    "</div>"
   ]
  },
  {
   "cell_type": "markdown",
   "metadata": {},
   "source": [
    "### **Generation** vs **Weekday** vs **Start Hour**"
   ]
  },
  {
   "cell_type": "code",
   "execution_count": null,
   "metadata": {},
   "outputs": [],
   "source": [
    "# defining our figure\n",
    "plt.figure(figsize=(15, 10))\n",
    "\n",
    "# plotting\n",
    "ax = sns.pointplot(data=df_clean, x='start_weekday', y='start_hour', hue='member_generation', dodge=0.5, linestyles='', palette='RdPu')\n",
    "\n",
    "# finishing touches\n",
    "plt.title(\"Start Hour across Generations and Weekdays\")\n",
    "plt.xlabel(None)\n",
    "plt.ylabel(\"Start Hour\")\n",
    "plt.legend(title=\"Generation\")\n",
    "\n",
    "plt.show()"
   ]
  },
  {
   "cell_type": "markdown",
   "metadata": {},
   "source": [
    "<div class=\"alert alert-success\">\n",
    "    blablabla\n",
    "</div>"
   ]
  },
  {
   "cell_type": "markdown",
   "metadata": {},
   "source": [
    "### **Age** vs **Gender** vs **Start Hour** (TODO)"
   ]
  },
  {
   "cell_type": "code",
   "execution_count": null,
   "metadata": {},
   "outputs": [],
   "source": [
    "# defining our figure\n",
    "plt.figure(figsize=(15, 10))\n",
    "\n",
    "# plotting\n",
    "ax = sns.pointplot(data=df_clean, x='member_generation', y='start_hour', hue='member_gender', dodge=0.5, linestyles='', palette=default_viz_palette)\n",
    "\n",
    "# finishing touches\n",
    "plt.title(\"Start Hour across Ages and Genders\")\n",
    "plt.xlabel(None)\n",
    "plt.ylabel(\"Start Hour\")\n",
    "plt.legend(title=\"Gender\")\n",
    "\n",
    "plt.show()"
   ]
  },
  {
   "cell_type": "markdown",
   "metadata": {},
   "source": [
    "<div class=\"alert alert-success\">\n",
    "    blablabla\n",
    "</div>"
   ]
  },
  {
   "cell_type": "markdown",
   "metadata": {},
   "source": [
    "## References\n",
    "\n",
    "https://stackoverflow.com/questions/48242555/correllation-pandas-between-date-and-integer-timeseries"
   ]
  }
 ],
 "metadata": {
  "interpreter": {
   "hash": "595d57a8f3dfb868693aad73d29991d3da9584d353904d7f9eb84ec3a1527603"
  },
  "kernelspec": {
   "display_name": "Python [conda env:bike-sharing]",
   "language": "python",
   "name": "python3"
  },
  "language_info": {
   "codemirror_mode": {
    "name": "ipython",
    "version": 3
   },
   "file_extension": ".py",
   "mimetype": "text/x-python",
   "name": "python",
   "nbconvert_exporter": "python",
   "pygments_lexer": "ipython3",
   "version": "3.8.12"
  }
 },
 "nbformat": 4,
 "nbformat_minor": 2
}
