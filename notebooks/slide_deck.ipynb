{
 "cells": [
  {
   "cell_type": "markdown",
   "id": "b61bce52",
   "metadata": {
    "slideshow": {
     "slide_type": "slide"
    }
   },
   "source": [
    "# Ford GoBike: Insights into Users' Behaviour"
   ]
  },
  {
   "cell_type": "markdown",
   "id": "f3558e8e",
   "metadata": {
    "slideshow": {
     "slide_type": "slide"
    }
   },
   "source": [
    "## Investigation Overview\n",
    "\n",
    "The aim here was to explore GoBike's 2019 trips data, looking for users' characteristics that could influence the trip duration. Our exploration revolved especially around users' gender, generation, the trip's weekday, and start hour."
   ]
  },
  {
   "cell_type": "markdown",
   "id": "58f39119",
   "metadata": {
    "slideshow": {
     "slide_type": "slide"
    }
   },
   "source": [
    "## Dataset Overview\n",
    "\n",
    "Our original dataset consisted of about 180k trips recorded in February 2019 around the greater San Francisco Bay area, including start and end times, member's gender, birth year, user type, and other attributes. After the preliminary wrangling step, around 8k records were discarded due to missing data or filtered-out members based on their birth year."
   ]
  },
  {
   "cell_type": "markdown",
   "id": "3c7386eb",
   "metadata": {
    "slideshow": {
     "slide_type": "skip"
    }
   },
   "source": [
    "### Importing"
   ]
  },
  {
   "cell_type": "code",
   "execution_count": null,
   "id": "3040fa2f",
   "metadata": {
    "slideshow": {
     "slide_type": "skip"
    }
   },
   "outputs": [],
   "source": [
    "import warnings\n",
    "import matplotlib.pyplot as plt\n",
    "import numpy as np\n",
    "import os\n",
    "import pandas as pd\n",
    "import seaborn as sns"
   ]
  },
  {
   "cell_type": "code",
   "execution_count": null,
   "id": "03417fda",
   "metadata": {
    "slideshow": {
     "slide_type": "skip"
    }
   },
   "outputs": [],
   "source": [
    "default_viz_palette = 'YlOrBr'\n",
    "default_viz_colour = sns.color_palette(default_viz_palette)[-3]\n",
    "\n",
    "sns.set_context('notebook', font_scale=1.25)\n",
    "\n",
    "%matplotlib inline\n",
    "\n",
    "warnings.simplefilter(\"ignore\")"
   ]
  },
  {
   "cell_type": "code",
   "execution_count": null,
   "id": "32700b23",
   "metadata": {
    "slideshow": {
     "slide_type": "skip"
    }
   },
   "outputs": [],
   "source": [
    "data_path = \"..//data//\"\n",
    "df_clean = pd.read_csv(os.path.join(data_path, \"201902-fordgobike-tripdata_clean.csv\"))"
   ]
  },
  {
   "cell_type": "markdown",
   "id": "9b62fe16",
   "metadata": {
    "slideshow": {
     "slide_type": "skip"
    }
   },
   "source": [
    "### Wrangling"
   ]
  },
  {
   "cell_type": "code",
   "execution_count": null,
   "id": "f8cf29fa",
   "metadata": {
    "slideshow": {
     "slide_type": "skip"
    }
   },
   "outputs": [],
   "source": [
    "weekdays = ['Sunday', 'Monday', 'Tuesday', 'Wednesday', 'Thursday', 'Friday', 'Saturday']\n",
    "weekday_var = pd.api.types.CategoricalDtype(ordered=True, categories=weekdays)\n",
    "\n",
    "df_clean['start_weekday'] = df_clean['start_weekday'].astype(weekday_var)\n",
    "df_clean['end_weekday'] = df_clean['end_weekday'].astype(weekday_var)"
   ]
  },
  {
   "cell_type": "code",
   "execution_count": null,
   "id": "1ca29186",
   "metadata": {
    "slideshow": {
     "slide_type": "skip"
    }
   },
   "outputs": [],
   "source": [
    "gen_labels = ['WW II', 'Post War', 'Boomers I', 'Boomers II', 'Gen X', 'Millennials', 'Gen Z']\n",
    "member_gen_var = pd.api.types.CategoricalDtype(ordered=True, categories=gen_labels)\n",
    "df_clean['member_generation'] = df_clean['member_generation'].astype(member_gen_var)"
   ]
  },
  {
   "cell_type": "code",
   "execution_count": null,
   "id": "3437e39e",
   "metadata": {
    "slideshow": {
     "slide_type": "skip"
    }
   },
   "outputs": [],
   "source": [
    "df_longer = df_clean.query(\"duration_min > 60\").reset_index(drop=True)"
   ]
  },
  {
   "cell_type": "markdown",
   "id": "da9731d8",
   "metadata": {
    "slideshow": {
     "slide_type": "slide"
    }
   },
   "source": [
    "## Distribution of Trip Duration\n",
    "\n",
    "The trip duration takes on a broad range, from 1 to around 1400 minutes. About **99%** of them lasted **less than one hour**, and we can see an approximate bimodal shape when we visualise this distribution on a logarithmic scale."
   ]
  },
  {
   "cell_type": "code",
   "execution_count": null,
   "id": "26bbd71f",
   "metadata": {
    "slideshow": {
     "slide_type": "subslide"
    }
   },
   "outputs": [],
   "source": [
    "dur_binsize_log = 0.1\n",
    "dur_bins_log = 10 ** np.arange(0, np.log10(df_clean.duration_min.max()) + dur_binsize_log, dur_binsize_log)\n",
    "\n",
    "# defining our figure\n",
    "plt.figure(figsize=(15, 10))\n",
    "\n",
    "# plotting\n",
    "p = sns.histplot(df_clean, x='duration_min', bins=dur_bins_log, color=default_viz_colour)\n",
    "\n",
    "# scaling\n",
    "p.set_xscale('log')\n",
    "\n",
    "# x-ticks\n",
    "p_xticks = [1, 3, 5, 10, 15, 20, 30, 45, 60]\n",
    "p.set_xticks(p_xticks)\n",
    "p.set_xticklabels(p_xticks)\n",
    "\n",
    "# labels and title\n",
    "p.set_title('Distribution of Trip Duration (Log Scale)')\n",
    "p.set_xlabel('Trip Duration (min)')\n",
    "p.set_ylabel('# of Trips')\n",
    "\n",
    "# finishing touches\n",
    "sns.despine()\n",
    "plt.show()"
   ]
  },
  {
   "cell_type": "markdown",
   "id": "b13bd185",
   "metadata": {
    "slideshow": {
     "slide_type": "slide"
    }
   },
   "source": [
    "## Trips per Weekday and Start Hours\n",
    "Most of the trips happened **from Monday to Friday**, especially during **rush hours** - suggesting Ford GoBike is broadly used for commuting purposes."
   ]
  },
  {
   "cell_type": "code",
   "execution_count": null,
   "id": "0088da49",
   "metadata": {
    "slideshow": {
     "slide_type": "subslide"
    }
   },
   "outputs": [],
   "source": [
    "# defining our figure\n",
    "fig, ax = plt.subplots(ncols=2, figsize=(30, 10))\n",
    "\n",
    "# plotting\n",
    "sns.countplot(data=df_clean, x='start_weekday', ax=ax[0], color=default_viz_colour)\n",
    "sns.countplot(data=df_clean, x='start_hour', ax=ax[1], color=default_viz_colour)\n",
    "\n",
    "# titles\n",
    "ax[0].set_title('Start Weekday')\n",
    "ax[1].set_title('Start Hour')\n",
    "\n",
    "# labels\n",
    "fig.suptitle(\"Trips per Weekday and Time of Day\", fontsize=20)\n",
    "plt.setp(ax, xlabel=None, ylabel=None)\n",
    "\n",
    "# finishing touches\n",
    "sns.despine()\n",
    "plt.show()"
   ]
  },
  {
   "cell_type": "markdown",
   "id": "9446e1ff",
   "metadata": {
    "slideshow": {
     "slide_type": "slide"
    }
   },
   "source": [
    "## Trips per Generation\n",
    "The vast majority of the trips were made by **Millennials**, followed by Gen X-ers and Gen Z-ers."
   ]
  },
  {
   "cell_type": "code",
   "execution_count": null,
   "id": "101687db",
   "metadata": {
    "slideshow": {
     "slide_type": "subslide"
    }
   },
   "outputs": [],
   "source": [
    "# defining our figure\n",
    "plt.figure(figsize=(15, 10))\n",
    "\n",
    "# plotting\n",
    "fig = sns.countplot(data=df_clean, x='member_generation', color=default_viz_colour)\n",
    "\n",
    "# titles\n",
    "fig.set_title(\"Trips per Generation\")\n",
    "\n",
    "# labels\n",
    "fig.set_xlabel(None)\n",
    "fig.set_ylabel(None)\n",
    "\n",
    "# finishing touches\n",
    "sns.despine()\n",
    "plt.show()"
   ]
  },
  {
   "cell_type": "markdown",
   "id": "b930f2c3",
   "metadata": {
    "slideshow": {
     "slide_type": "slide"
    }
   },
   "source": [
    "## Trips per Gender\n",
    "**74%** of the trips were made by clients who identify as a **male**, **23%** were by females, and only **2%** of the trips were of non-binary users."
   ]
  },
  {
   "cell_type": "code",
   "execution_count": null,
   "id": "a91f426e",
   "metadata": {
    "slideshow": {
     "slide_type": "subslide"
    }
   },
   "outputs": [],
   "source": [
    "# defining our figure\n",
    "plt.figure(figsize=(15, 10))\n",
    "\n",
    "# plotting\n",
    "fig = sns.countplot(data=df_clean, x='member_gender', color=default_viz_colour, order=df_clean.member_gender.value_counts().index)\n",
    "\n",
    "# titles\n",
    "fig.set_title(\"Trips per Gender\")\n",
    "\n",
    "# labels\n",
    "fig.set_xlabel(None)\n",
    "fig.set_ylabel(None)\n",
    "\n",
    "# finishing touches\n",
    "sns.despine()\n",
    "plt.show()"
   ]
  },
  {
   "cell_type": "markdown",
   "id": "918fedac",
   "metadata": {
    "slideshow": {
     "slide_type": "slide"
    }
   },
   "source": [
    "## User Types and Weekdays\n",
    "\n",
    "When we look at all trips, we observe an **enormous amount of subscriber bike trips** compared to customers', especially on workdays. However, if we consider **only longer trips** (i.e. that lasted more than one hour), the difference is drastically smaller, and we can also see **customers are responsible for most of the weekend longer trips**."
   ]
  },
  {
   "cell_type": "code",
   "execution_count": null,
   "id": "a6f112ce",
   "metadata": {
    "slideshow": {
     "slide_type": "subslide"
    }
   },
   "outputs": [],
   "source": [
    "# defining our figure\n",
    "fig, ax = plt.subplots(ncols=2, figsize=(30, 10))\n",
    "\n",
    "# plotting\n",
    "sns.countplot(data=df_clean, x='start_weekday', ax=ax[0], hue='user_type', palette=default_viz_palette)\n",
    "sns.countplot(data=df_longer, x='start_weekday', ax=ax[1], hue='user_type', palette=default_viz_palette)\n",
    "\n",
    "# titles\n",
    "fig.suptitle(\"Trip Weekdays according to User Types\", fontsize=20)\n",
    "ax[0].set_title('All Trips')\n",
    "ax[1].set_title('Longer Trips (1+ Hour)')\n",
    "\n",
    "# labels\n",
    "plt.setp(ax, xlabel=None, ylabel=None)\n",
    "ax[0].legend(title=\"User Type\")\n",
    "ax[1].legend(title=\"User Type\")\n",
    "\n",
    "# finishing touches\n",
    "sns.despine()\n",
    "plt.show()"
   ]
  },
  {
   "cell_type": "markdown",
   "id": "85f5c95d",
   "metadata": {
    "slideshow": {
     "slide_type": "slide"
    }
   },
   "source": [
    "## Trip Duration per User Type\n",
    "\n",
    "On average, **customers' bike trips last a bit longer** than subscribers'.\n",
    "\n",
    "Coupling this with the findings made in the previous section, we can observe that **subscribers** use the service more for **short and frequent trips**, while **customers** go on fewer but longer trips."
   ]
  },
  {
   "cell_type": "code",
   "execution_count": null,
   "id": "4a07ba3b",
   "metadata": {
    "slideshow": {
     "slide_type": "subslide"
    }
   },
   "outputs": [],
   "source": [
    "# filtering data\n",
    "df_clean_filtered = df_clean.query(\"duration_min <= 60\").reset_index(drop=True)\n",
    "\n",
    "# plotting w faceting\n",
    "grid = sns.FacetGrid(data=df_clean_filtered, col='user_type', sharex=False, sharey=False, col_wrap=2, height=8)\n",
    "grid.map(sns.violinplot, 'duration_min', color=default_viz_colour)\n",
    "\n",
    "# titles + labels\n",
    "grid.fig.suptitle(\"Trip Duration per User Type\", fontsize=18, x=0.5, y=1.05)\n",
    "grid.set_titles(col_template=\"{col_name}\")\n",
    "grid.set_axis_labels(\"Trip Duration (min)\")\n",
    "\n",
    "plt.show()"
   ]
  },
  {
   "cell_type": "markdown",
   "id": "aacf6709",
   "metadata": {
    "slideshow": {
     "slide_type": "slide"
    }
   },
   "source": [
    "## User Types and Generations\n",
    "When we look at the big picture, the member's generation seems to have little to no effect on the user type, but the story changes when we focus on longer trips. We can observe **most of Millennials and Gen Z-ers preferred riding as customers rather than as subscribers**."
   ]
  },
  {
   "cell_type": "code",
   "execution_count": null,
   "id": "921e3405",
   "metadata": {
    "slideshow": {
     "slide_type": "subslide"
    }
   },
   "outputs": [],
   "source": [
    "# defining our figure\n",
    "fig, ax = plt.subplots(ncols=2, figsize=(30, 10))\n",
    "\n",
    "# plotting\n",
    "sns.countplot(data=df_clean, x='member_generation', ax=ax[0], hue='user_type', palette=default_viz_palette)\n",
    "sns.countplot(data=df_longer, x='member_generation', ax=ax[1], hue='user_type', palette=default_viz_palette)\n",
    "\n",
    "# titles\n",
    "fig.suptitle(\"Trips per Generation and User Type\", fontsize=20)\n",
    "ax[0].set_title('All Trips')\n",
    "ax[1].set_title('Longer Trips (1+ Hour)')\n",
    "\n",
    "# labels\n",
    "plt.setp(ax, xlabel=None, ylabel=None)\n",
    "ax[0].legend(title=\"User Type\", loc=\"upper left\")\n",
    "ax[1].legend(title=\"User Type\", loc=\"upper left\")\n",
    "\n",
    "# finishing touches\n",
    "sns.despine()\n",
    "plt.show()"
   ]
  },
  {
   "cell_type": "markdown",
   "id": "c7efe85a",
   "metadata": {
    "slideshow": {
     "slide_type": "slide"
    }
   },
   "source": [
    "## Start Hours according to Age and Gender\n",
    "\n",
    "The plot below shows us **the older the member, the sooner they prefer to leave for their bike rides**. Also, there's just a small difference between male and female averages.\n",
    "\n",
    "The non-binary people's start hours, in turn, have higher variation and larger confidence intervals, possibly due to the small number of trips."
   ]
  },
  {
   "cell_type": "code",
   "execution_count": null,
   "id": "ef8850b2",
   "metadata": {
    "slideshow": {
     "slide_type": "subslide"
    }
   },
   "outputs": [],
   "source": [
    "# defining our figure\n",
    "plt.figure(figsize=(15, 10))\n",
    "\n",
    "# plotting\n",
    "subset = df_clean.query(\"member_age <= 60\") # original range is too large, affecting our viz's legibility\n",
    "ax = sns.pointplot(data=subset, x='member_age', y='start_hour', hue='member_gender', dodge=0.5, linestyles='', palette=default_viz_palette)\n",
    "\n",
    "# title + label + legend\n",
    "plt.title(\"Start Hour across Ages and Genders\")\n",
    "plt.xlabel(None)\n",
    "plt.ylabel(\"Start Hour\")\n",
    "plt.legend(title=\"Gender\")\n",
    "\n",
    "# finishing touches\n",
    "sns.despine()\n",
    "plt.show()"
   ]
  },
  {
   "cell_type": "code",
   "execution_count": null,
   "id": "0e3cf89c",
   "metadata": {
    "slideshow": {
     "slide_type": "skip"
    }
   },
   "outputs": [],
   "source": [
    "!jupyter nbconvert slide_deck.ipynb --to slides --post serve --no-input --no-prompt"
   ]
  }
 ],
 "metadata": {
  "celltoolbar": "Slideshow",
  "interpreter": {
   "hash": "595d57a8f3dfb868693aad73d29991d3da9584d353904d7f9eb84ec3a1527603"
  },
  "kernelspec": {
   "display_name": "Python [conda env:bike-sharing]",
   "language": "python",
   "name": "conda-env-bike-sharing-py"
  },
  "language_info": {
   "codemirror_mode": {
    "name": "ipython",
    "version": 3
   },
   "file_extension": ".py",
   "mimetype": "text/x-python",
   "name": "python",
   "nbconvert_exporter": "python",
   "pygments_lexer": "ipython3",
   "version": "3.8.12"
  }
 },
 "nbformat": 4,
 "nbformat_minor": 5
}
